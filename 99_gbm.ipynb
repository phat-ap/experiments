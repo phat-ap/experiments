{
 "cells": [
  {
   "cell_type": "code",
   "execution_count": 34,
   "metadata": {},
   "outputs": [],
   "source": [
    "import pandas as pd\n",
    "df = (\n",
    "    pd\n",
    "    .read_csv(\n",
    "        'SPY ETF Stock Price History.csv', \n",
    "        parse_dates=['Date']\n",
    "    )\n",
    "    .drop(columns='Change %')\n",
    "    .rename(\n",
    "        columns = {\n",
    "            'Date': 'date', \n",
    "            'Price': 'close', \n",
    "            'Open': 'open', \n",
    "            'High': 'high', \n",
    "            'Low': 'low', \n",
    "            'Vol.': 'volume'\n",
    "        }\n",
    "    )\n",
    "    .set_index('date')\n",
    "    .sort_index()\n",
    ")\n",
    "df['volume'] = df['volume'].str.slice(stop = -1).astype('float')\n",
    "ser_price = df['close']"
   ]
  },
  {
   "cell_type": "code",
   "execution_count": 35,
   "metadata": {},
   "outputs": [
    {
     "data": {
      "text/plain": [
       "date\n",
       "2011-01-03    127.05\n",
       "2011-01-04    126.98\n",
       "2011-01-05    127.64\n",
       "2011-01-06    127.39\n",
       "2011-01-07    127.14\n",
       "               ...  \n",
       "2024-08-26    560.79\n",
       "2024-08-27    561.56\n",
       "2024-08-28    558.30\n",
       "2024-08-29    558.35\n",
       "2024-08-30    563.68\n",
       "Name: close, Length: 3443, dtype: float64"
      ]
     },
     "execution_count": 35,
     "metadata": {},
     "output_type": "execute_result"
    }
   ],
   "source": [
    "ser_price"
   ]
  }
 ],
 "metadata": {
  "kernelspec": {
   "display_name": "Python 3",
   "language": "python",
   "name": "python3"
  },
  "language_info": {
   "codemirror_mode": {
    "name": "ipython",
    "version": 3
   },
   "file_extension": ".py",
   "mimetype": "text/x-python",
   "name": "python",
   "nbconvert_exporter": "python",
   "pygments_lexer": "ipython3",
   "version": "3.12.6"
  }
 },
 "nbformat": 4,
 "nbformat_minor": 2
}
